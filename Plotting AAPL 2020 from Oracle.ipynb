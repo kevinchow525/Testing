{
 "cells": [
  {
   "cell_type": "code",
   "execution_count": 1,
   "id": "exceptional-jacob",
   "metadata": {
    "scrolled": false
   },
   "outputs": [],
   "source": [
    "# written by Kevin Chow"
   ]
  },
  {
   "cell_type": "code",
   "execution_count": 2,
   "id": "looking-harrison",
   "metadata": {},
   "outputs": [],
   "source": [
    "# import libraries\n",
    "\n",
    "import cx_Oracle\n",
    "import pandas as pd\n",
    "import matplotlib.pyplot as plt"
   ]
  },
  {
   "cell_type": "code",
   "execution_count": 3,
   "id": "juvenile-navigation",
   "metadata": {},
   "outputs": [],
   "source": [
    "# load Oracle database details\n",
    "\n",
    "f = open(\"oracle.txt\",\"r\")\n",
    "if f.mode == 'r':\n",
    "    oracleString = f.read()\n",
    "    oracleStringNew = oracleString.replace('@','/')\n",
    "    oracleVariables = oracleStringNew.split('/')    "
   ]
  },
  {
   "cell_type": "code",
   "execution_count": 4,
   "id": "prescribed-commander",
   "metadata": {},
   "outputs": [],
   "source": [
    "# create variables\n",
    "\n",
    "USERNAME = oracleVariables[0]\n",
    "USERPWD = oracleVariables[1]\n",
    "HOSTNAME = oracleVariables[2]\n",
    "DBNAME = oracleVariables[3]"
   ]
  },
  {
   "cell_type": "code",
   "execution_count": 5,
   "id": "consolidated-crash",
   "metadata": {},
   "outputs": [],
   "source": [
    "# try to create a Oracle database connection\n",
    "\n",
    "try:\n",
    "    # connection = cx_Oracle.connect(\"USERNAME/USERPWD@HOSTNAME/DBNAME\")\n",
    "    connection = cx_Oracle.connect(USERNAME, USERPWD, HOSTNAME + \"/\" + DBNAME, encoding = \"UTF-8\")\n",
    "except Exception as errConnection:\n",
    "    print(\"Error while creating a connection: \", errConnection)"
   ]
  },
  {
   "cell_type": "code",
   "execution_count": 6,
   "id": "agricultural-banana",
   "metadata": {},
   "outputs": [],
   "source": [
    "# try to create a cursor\n",
    "\n",
    "try:\n",
    "    cur = connection.cursor()\n",
    "except Exception as errCurCreate:\n",
    "    print(\"Error while creating a cursor: \", errCurCreate)"
   ]
  },
  {
   "cell_type": "code",
   "execution_count": 7,
   "id": "practical-albania",
   "metadata": {},
   "outputs": [],
   "source": [
    "# fetching price of Apple Inc.\n",
    "\n",
    "sql = \"\"\"\n",
    "        SELECT PRICE_DATE, CLOSE FROM SA_PRICES \n",
    "        WHERE SECNAME = 'AAPL'\n",
    "        AND EXTRACT(YEAR FROM PRICE_DATE) = 2020\n",
    "        \"\"\"\n",
    "\n",
    "cur.execute(sql)\n",
    "mx = cur.fetchall()\n",
    "mx = tuple(zip(*mx))\n",
    "df = pd.DataFrame(data=mx[1], index=mx[0], columns=['AAPL'])"
   ]
  },
  {
   "cell_type": "code",
   "execution_count": 8,
   "id": "infinite-variety",
   "metadata": {},
   "outputs": [
    {
     "data": {
      "image/png": "[encoded data removed]",
      "text/plain": [
       "<Figure size 432x288 with 1 Axes>"
      ]
     },
     "metadata": {
      "needs_background": "light"
     },
     "output_type": "display_data"
    }
   ],
   "source": [
    "# plot a graph\n",
    "\n",
    "plt.close(\"all\")\n",
    "df.plot()\n",
    "plt.show()"
   ]
  },
  {
   "cell_type": "code",
   "execution_count": 9,
   "id": "closed-dancing",
   "metadata": {},
   "outputs": [],
   "source": [
    "# try to close the cursor\n",
    "\n",
    "try:\n",
    "    cur.close()\n",
    "except Exception as errCurClose:\n",
    "    print(\"Error while closing a cursor: \", errCurClose)"
   ]
  },
  {
   "cell_type": "code",
   "execution_count": 10,
   "id": "romantic-correspondence",
   "metadata": {},
   "outputs": [],
   "source": [
    "# try to close the Oracle database connection\n",
    "\n",
    "try:\n",
    "    connection.close()\n",
    "except Exception as errConnectionClose:\n",
    "    print(\"Error while closing a connection: \", errConnectionClose)"
   ]
  }
 ],
 "metadata": {
  "kernelspec": {
   "display_name": "Python 3",
   "language": "python",
   "name": "python3"
  },
  "language_info": {
   "codemirror_mode": {
    "name": "ipython",
    "version": 3
   },
   "file_extension": ".py",
   "mimetype": "text/x-python",
   "name": "python",
   "nbconvert_exporter": "python",
   "pygments_lexer": "ipython3",
   "version": "3.9.0"
  }
 },
 "nbformat": 4,
 "nbformat_minor": 5
}

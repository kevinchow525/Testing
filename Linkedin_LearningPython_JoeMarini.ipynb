{
 "cells": [
  {
   "cell_type": "code",
   "execution_count": 1,
   "id": "grave-approach",
   "metadata": {},
   "outputs": [],
   "source": [
    "# Prepared by Joe Marini\n",
    "# Rearranged by Kevin Chow"
   ]
  },
  {
   "cell_type": "code",
   "execution_count": 2,
   "id": "rental-liability",
   "metadata": {},
   "outputs": [],
   "source": [
    "def main():\n",
    "    print(\"hello world!\")\n",
    "    name = input(\"What is your name? \")\n",
    "    print(\"Nice to meet you,\", name)"
   ]
  },
  {
   "cell_type": "code",
   "execution_count": 4,
   "id": "pressing-divide",
   "metadata": {},
   "outputs": [
    {
     "name": "stdout",
     "output_type": "stream",
     "text": [
      "hello world!\n",
      "What is your name? Kevin\n",
      "Nice to meet you, Kevin\n"
     ]
    }
   ],
   "source": [
    "if __name__ == \"__main__\":\n",
    "    main()"
   ]
  },
  {
   "cell_type": "code",
   "execution_count": null,
   "id": "adopted-creek",
   "metadata": {},
   "outputs": [],
   "source": []
  }
 ],
 "metadata": {
  "kernelspec": {
   "display_name": "Python 3",
   "language": "python",
   "name": "python3"
  },
  "language_info": {
   "codemirror_mode": {
    "name": "ipython",
    "version": 3
   },
   "file_extension": ".py",
   "mimetype": "text/x-python",
   "name": "python",
   "nbconvert_exporter": "python",
   "pygments_lexer": "ipython3",
   "version": "3.9.0"
  }
 },
 "nbformat": 4,
 "nbformat_minor": 5
}
